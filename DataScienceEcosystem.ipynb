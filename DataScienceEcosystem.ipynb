{
 "cells": [
  {
   "cell_type": "markdown",
   "id": "6ba50c4a-d9e2-453a-b1a7-3ac01a3a02ca",
   "metadata": {},
   "source": [
    "# Data Science Tools and Ecosystem"
   ]
  },
  {
   "cell_type": "markdown",
   "id": "ac8afee1-ebd9-468a-a44e-10c37c187cc5",
   "metadata": {
    "tags": []
   },
   "source": [
    "####  In this notebook, Data Science Tools and Ecosystem are summarized."
   ]
  },
  {
   "cell_type": "markdown",
   "id": "c00eadc7-2d58-432d-8b36-9ea367c32fe6",
   "metadata": {},
   "source": [
    "# **Objectives:** \n",
    "- R\n",
    "- Paython\n",
    "- SQL"
   ]
  },
  {
   "cell_type": "markdown",
   "id": "83ef53a7-7a78-4ad6-a1b5-c71913a6e377",
   "metadata": {
    "tags": []
   },
   "source": [
    "# Some of the popular languages that Data Scientists use are:\n",
    "1. R\n",
    "2. Python\n",
    "3. SQL"
   ]
  },
  {
   "cell_type": "markdown",
   "id": "33280734-b62a-496a-8577-63874b526618",
   "metadata": {},
   "source": [
    "# Some of the commonly used libraries used by Data Scientists include:\n",
    "1. Keras\n",
    "2. Pandas\n",
    "3. NumPy"
   ]
  },
  {
   "cell_type": "markdown",
   "id": "90c964f8-be0c-4fec-9012-dc65a4f19343",
   "metadata": {},
   "source": [
    "## Data Science Tools Table\n",
    "\n",
    "| Data Science Tools | \n",
    "| -------------| \n",
    "| Git | \n",
    "| R Studio | \n",
    "| Unix Shell | "
   ]
  },
  {
   "cell_type": "markdown",
   "id": "6d544b8d-fe6f-4e68-ba31-9386affad985",
   "metadata": {},
   "source": [
    "### Below are a few examples of evaluating arithmetic expressions in Python"
   ]
  },
  {
   "cell_type": "markdown",
   "id": "d1ab5011-2214-418d-9b20-1b51fd23a7fb",
   "metadata": {},
   "source": [
    "###### This a simple arithmetic expression to mutiply then add integers"
   ]
  },
  {
   "cell_type": "code",
   "execution_count": 10,
   "id": "cb9bf96c-c5bb-41ee-b1c1-fdf8b79ae39a",
   "metadata": {
    "tags": []
   },
   "outputs": [
    {
     "data": {
      "text/plain": [
       "17"
      ]
     },
     "execution_count": 10,
     "metadata": {},
     "output_type": "execute_result"
    }
   ],
   "source": [
    "(3*4)+5"
   ]
  },
  {
   "cell_type": "markdown",
   "id": "5d94fe86-100f-43e5-aeff-412c109859c6",
   "metadata": {},
   "source": [
    "###### This will convert 200 minutes to hours by diving by 60"
   ]
  },
  {
   "cell_type": "code",
   "execution_count": 11,
   "id": "69a31a11-618d-41b1-b126-6fa1ca134370",
   "metadata": {
    "tags": []
   },
   "outputs": [
    {
     "data": {
      "text/plain": [
       "3.3333333333333335"
      ]
     },
     "execution_count": 11,
     "metadata": {},
     "output_type": "execute_result"
    }
   ],
   "source": [
    "200/60"
   ]
  },
  {
   "cell_type": "markdown",
   "id": "91ab6c67-ecbe-43b7-bd89-e361494fe4ae",
   "metadata": {},
   "source": [
    "## Author\n",
    "###### Mohamad Hadla"
   ]
  },
  {
   "cell_type": "code",
   "execution_count": null,
   "id": "b093ab3a-de8e-4fe7-8662-ca3983636225",
   "metadata": {},
   "outputs": [],
   "source": []
  }
 ],
 "metadata": {
  "kernelspec": {
   "display_name": "Python",
   "language": "python",
   "name": "conda-env-python-py"
  },
  "language_info": {
   "codemirror_mode": {
    "name": "ipython",
    "version": 3
   },
   "file_extension": ".py",
   "mimetype": "text/x-python",
   "name": "python",
   "nbconvert_exporter": "python",
   "pygments_lexer": "ipython3",
   "version": "3.7.12"
  }
 },
 "nbformat": 4,
 "nbformat_minor": 5
}
